{
  "nbformat": 4,
  "nbformat_minor": 0,
  "metadata": {
    "colab": {
      "provenance": []
    },
    "kernelspec": {
      "name": "python3",
      "display_name": "Python 3"
    },
    "language_info": {
      "name": "python"
    }
  },
  "cells": [
    {
      "cell_type": "markdown",
      "source": [
        "# Principais hiperparâmetros do Random Forest:\n",
        "- **1) n_estimators**\n",
        "- **2) max_depth**\n",
        "- **3) min_samples_split**\n",
        "- **4) min_samples_leaf**\n",
        "- **5) max_features**\n",
        "- **6) bootstrap**\n",
        "- **7) oob_score**\n",
        "- **8) n_jobs**\n",
        "- **9) random_state**\n",
        "- **10) class_weight**"
      ],
      "metadata": {
        "id": "6_iHVziqCPfm"
      }
    },
    {
      "cell_type": "markdown",
      "source": [
        "# Função de cada hiperparâmetro:\n",
        "## **1) n_estimators:**\n",
        "- O que é: Número de árvores na floresta.\n",
        "- Para que serve: Controla o tamanho do ensemble. Mais árvores geralmente levam a melhor performance, mas aumentam o tempo de computação.\n",
        "## **2) max_depth:**\n",
        "- O que é: Profundidade máxima de cada árvore.\n",
        "- Para que serve: Controla a complexidade das árvores. Limitar a profundidade pode prevenir overfitting, mas árvores muito rasas podem causar underfitting.\n",
        "## **3) min_samples_split:**\n",
        "- O que é: Número mínimo de amostras necessárias para dividir um nó interno.\n",
        "- Para que serve: Controla a criação de novas divisões. Valores maiores previnem a criação de partições muito pequenas, potencialmente reduzindo overfitting.\n",
        "## **4) min_samples_leaf:**\n",
        "- O que é: Número mínimo de amostras necessárias em um nó folha.\n",
        "- Para que serve: Garante um número mínimo de amostras em cada nó terminal, ajudando a suavizar o modelo e prevenir overfitting.\n",
        "## **5) max_features:**\n",
        "- O que é: Número de features a considerar ao procurar a melhor divisão.\n",
        "- Para que serve: Controla a aleatoriedade na seleção de features. Valores menores aumentam a diversidade entre as árvores, potencialmente melhorando a generalização.\n",
        "## **6) bootstrap:**\n",
        "- O que é: Se as amostras bootstrap devem ser usadas ao construir árvores.\n",
        "- Para que serve: Quando True, cada árvore é treinada em uma amostra bootstrap dos dados. Quando False, todo o dataset é usado para cada árvore.\n",
        "## **7) oob_score:**\n",
        "- O que é: Se deve usar amostras out-of-bag para estimar a precisão do modelo.\n",
        "- Para que serve: Fornece uma estimativa imparcial do erro de generalização sem necessidade de um conjunto de validação separado.\n",
        "## **8) n_jobs:**\n",
        "- O que é: Número de jobs a executar em paralelo.\n",
        "- Para que serve: Controla o paralelismo na construção e predição das árvores. -1 significa usar todos os processadores disponíveis.\n",
        "## **9) random_state:**\n",
        "- O que é: Controla a aleatoriedade do bootstrapping e seleção de features.\n",
        "- Para que serve: Garante reprodutibilidade dos resultados.\n",
        "## **10) class_weight:**\n",
        "- O que é: Pesos associados às classes.\n",
        "- Para que serve: Útil para conjuntos de dados desbalanceados, dando mais importância à classe minoritária.\n"
      ],
      "metadata": {
        "id": "YjKiN47QCnD7"
      }
    }
  ]
}