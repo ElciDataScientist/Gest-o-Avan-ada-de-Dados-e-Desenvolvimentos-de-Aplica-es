{
  "nbformat": 4,
  "nbformat_minor": 0,
  "metadata": {
    "colab": {
      "provenance": []
    },
    "kernelspec": {
      "name": "python3",
      "display_name": "Python 3"
    },
    "language_info": {
      "name": "python"
    }
  },
  "cells": [
    {
      "cell_type": "code",
      "execution_count": 1,
      "metadata": {
        "id": "DCsa9MLA25mT"
      },
      "outputs": [],
      "source": [
        "import numpy as np"
      ]
    },
    {
      "cell_type": "code",
      "source": [
        "def f(x):\n",
        "    return x**3\n",
        "\n",
        "a, b = 1, 2  # limites de integração\n",
        "n = 1000  # número de retângulos\n",
        "\n",
        "x = np.linspace(a, b, n+1)\n",
        "dx = (b - a) / n\n",
        "\n",
        "y = f(x[:-1])  # altura dos retângulos (usando o ponto esquerdo)\n",
        "\n",
        "integral_numerica = np.sum(y * dx)\n",
        "\n",
        "print(f\"Integral numérica: {integral_numerica}\")\n",
        "print(f\"Número de retângulos usados: {n}\")"
      ],
      "metadata": {
        "colab": {
          "base_uri": "https://localhost:8080/"
        },
        "id": "tUPkfF9U3Jbv",
        "outputId": "612f7d47-617c-4bbe-a193-cc87a1627ff1"
      },
      "execution_count": 2,
      "outputs": [
        {
          "output_type": "stream",
          "name": "stdout",
          "text": [
            "Integral numérica: 3.7465007500000005\n",
            "Número de retângulos usados: 1000\n"
          ]
        }
      ]
    },
    {
      "cell_type": "code",
      "source": [
        "def integral_analitica(a, b):\n",
        "    return (b**4 / 4) - (a**4 / 4)\n",
        "\n",
        "resultado_analitico = integral_analitica(1, 2)\n",
        "print(f\"Integral analítica: {resultado_analitico}\")"
      ],
      "metadata": {
        "colab": {
          "base_uri": "https://localhost:8080/"
        },
        "id": "3L-T-y1S3UFZ",
        "outputId": "2eebdae8-c947-463b-e16b-a1940894ce88"
      },
      "execution_count": 3,
      "outputs": [
        {
          "output_type": "stream",
          "name": "stdout",
          "text": [
            "Integral analítica: 3.75\n"
          ]
        }
      ]
    }
  ]
}