{
  "nbformat": 4,
  "nbformat_minor": 0,
  "metadata": {
    "colab": {
      "provenance": []
    },
    "kernelspec": {
      "name": "python3",
      "display_name": "Python 3"
    },
    "language_info": {
      "name": "python"
    }
  },
  "cells": [
    {
      "cell_type": "markdown",
      "source": [
        "# Os métodos/algoritmos listados, os que são baseados no uso de derivadas são:\n",
        "## **1. - Método Mínimos Quadrados - Usa a derivada**\n",
        "## **2. - Gradiente descendente - Usa, pois precisa do cálculo do gradiente**\n",
        "## **3. - Newton Raphson - Primeira derivada e da segunda**\n",
        "## **4. - CART (Árvore de decisão) - Não faz usos de derivada**\n",
        "\n"
      ],
      "metadata": {
        "id": "OJ5lF_G61DVz"
      }
    },
    {
      "cell_type": "markdown",
      "source": [
        "# 2"
      ],
      "metadata": {
        "id": "OmOqwvju2ncQ"
      }
    },
    {
      "cell_type": "markdown",
      "source": [
        "# A razão pela qual não é possível obter parâmetros que forneçam um erro quadrático médio (EQM) menor que o obtido com estimadores de mínimos quadrados está fundamentalmente ligada à definição e às propriedades matemáticas do método dos mínimos quadrados.\n",
        "\n",
        "# Não É possível obter um valor menor no sentido de quadrados mínimos.\n"
      ],
      "metadata": {
        "id": "97qLxMj71038"
      }
    }
  ]
}